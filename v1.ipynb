{
 "cells": [
  {
   "cell_type": "code",
   "execution_count": 2,
   "id": "b0fb119a",
   "metadata": {},
   "outputs": [
    {
     "name": "stdout",
     "output_type": "stream",
     "text": [
      "Collecting sklearn\n",
      "  Downloading sklearn-0.0.tar.gz (1.1 kB)\n",
      "Collecting scikit-learn\n",
      "  Downloading scikit_learn-1.0.2-cp38-cp38-win_amd64.whl (7.2 MB)\n",
      "Requirement already satisfied: numpy>=1.14.6 in c:\\users\\adamj\\anaconda3\\envs\\venv\\lib\\site-packages (from scikit-learn->sklearn) (1.21.5)\n",
      "Requirement already satisfied: scipy>=1.1.0 in c:\\users\\adamj\\anaconda3\\envs\\venv\\lib\\site-packages (from scikit-learn->sklearn) (1.7.3)\n",
      "Collecting joblib>=0.11\n",
      "  Downloading joblib-1.1.0-py2.py3-none-any.whl (306 kB)\n",
      "Collecting threadpoolctl>=2.0.0\n",
      "  Downloading threadpoolctl-3.0.0-py3-none-any.whl (14 kB)\n",
      "Building wheels for collected packages: sklearn\n",
      "  Building wheel for sklearn (setup.py): started\n",
      "  Building wheel for sklearn (setup.py): finished with status 'done'\n",
      "  Created wheel for sklearn: filename=sklearn-0.0-py2.py3-none-any.whl size=1309 sha256=3bf8dabde2227629e1377c62b51a4ea27baae35efac537157b4a67e4587f1a48\n",
      "  Stored in directory: c:\\users\\adamj\\appdata\\local\\pip\\cache\\wheels\\22\\0b\\40\\fd3f795caaa1fb4c6cb738bc1f56100be1e57da95849bfc897\n",
      "Successfully built sklearn\n",
      "Installing collected packages: threadpoolctl, joblib, scikit-learn, sklearn\n",
      "Successfully installed joblib-1.1.0 scikit-learn-1.0.2 sklearn-0.0 threadpoolctl-3.0.0\n",
      "Note: you may need to restart the kernel to use updated packages.\n"
     ]
    }
   ],
   "source": [
    "pip install sklearn"
   ]
  },
  {
   "cell_type": "code",
   "execution_count": 3,
   "id": "265a14e4",
   "metadata": {},
   "outputs": [],
   "source": [
    "import numpy as np \n",
    "import matplotlib.pyplot as plt\n",
    "import os\n",
    "import copy\n",
    "from math import *\n",
    "from functools import reduce\n",
    "from PIL import Image as Img\n",
    "from PIL import ImageTk\n",
    "from PIL import ImageEnhance\n",
    "from glob import glob\n",
    "from mpl_toolkits.mplot3d.art3d import Poly3DCollection\n",
    "from sklearn.cluster import KMeans"
   ]
  },
  {
   "cell_type": "code",
   "execution_count": 4,
   "id": "f6a14403",
   "metadata": {},
   "outputs": [],
   "source": [
    "# reading in dicom files\n",
    "import pydicom as dicom"
   ]
  },
  {
   "cell_type": "code",
   "execution_count": 5,
   "id": "46d4edc6",
   "metadata": {},
   "outputs": [],
   "source": [
    "# skimage image processing packages\n",
    "import skimage\n",
    "from skimage import measure, morphology\n",
    "from skimage.morphology import ball, binary_closing\n",
    "from skimage.measure import label, regionprops\n",
    "from skimage.transform import resize"
   ]
  },
  {
   "cell_type": "code",
   "execution_count": 6,
   "id": "cb8e74f7",
   "metadata": {},
   "outputs": [],
   "source": [
    "# scipy linear algebra functions \n",
    "from scipy.linalg import norm\n",
    "import scipy.ndimage"
   ]
  },
  {
   "cell_type": "code",
   "execution_count": 7,
   "id": "2db89742",
   "metadata": {},
   "outputs": [],
   "source": [
    "# ipywidgets for some interactive plots\n",
    "from ipywidgets.widgets import * \n",
    "import ipywidgets as widgets"
   ]
  },
  {
   "cell_type": "code",
   "execution_count": 8,
   "id": "1025388a",
   "metadata": {},
   "outputs": [],
   "source": [
    "# plotly 3D interactive graphs \n",
    "import plotly\n",
    "from plotly.graph_objs import *\n",
    "from plotly import __version__\n",
    "from plotly.offline import download_plotlyjs, init_notebook_mode, plot, iplot\n",
    "from plotly.tools import FigureFactory as FF\n",
    "import chart_studio.plotly as py"
   ]
  },
  {
   "cell_type": "code",
   "execution_count": 31,
   "id": "93ada7e8",
   "metadata": {},
   "outputs": [],
   "source": [
    "# set path and load files \n",
    "path = r'C:\\Users\\adamj\\OneDrive\\Desktop\\DICOM Python\\Dicom Files'"
   ]
  },
  {
   "cell_type": "code",
   "execution_count": 32,
   "id": "785036de",
   "metadata": {},
   "outputs": [],
   "source": [
    "ct_images = os.listdir(path)\n",
    "slices = [dicom.dcmread(path + '/' + s) for s in ct_images]\n",
    "slices = [s for s in slices if 'SliceLocation' in s]\n",
    "slices.sort(key = lambda x: int(x.InstanceNumber))\n",
    "try:\n",
    "    slice_thickness = np.abs(slices[0].ImagePositionPatient[2] - slices[1].ImagePositionPatient[2])\n",
    "except:\n",
    "    slice_thickness = np.abs(slices[0].SliceLocation - slices[1].SliceLocation)\n",
    "for s in slices:\n",
    "    s.SliceThickness = slice_thickness\n",
    "    \n",
    "pixel_spacing = slices[0].PixelSpacing"
   ]
  },
  {
   "cell_type": "code",
   "execution_count": 33,
   "id": "4d6f3fd0",
   "metadata": {},
   "outputs": [],
   "source": [
    "image = np.stack([s.pixel_array for s in slices])\n",
    "image = image.astype(np.int16)\n",
    "# Set outside-of-scan pixels to 0\n",
    "# The intercept is usually -1024, so air is approximately 0\n",
    "image[image == -2000] = 0\n",
    "    \n",
    "# Convert to Hounsfield units (HU)\n",
    "intercept = slices[0].RescaleIntercept\n",
    "slope = slices[0].RescaleSlope\n",
    "    \n",
    "if slope != 1:\n",
    "    image = slope * image.astype(np.float64)\n",
    "    image = image.astype(np.int16)\n",
    "        \n",
    "image += np.int16(intercept)\n",
    "   \n",
    "patient_pixels = np.array(image, dtype=np.int16)"
   ]
  },
  {
   "cell_type": "code",
   "execution_count": 64,
   "id": "ef5732ee",
   "metadata": {},
   "outputs": [
    {
     "name": "stdout",
     "output_type": "stream",
     "text": [
      "The image object has the following dimensions:\n",
      "height=288\n",
      "width=512\n",
      "depth=512.\n"
     ]
    }
   ],
   "source": [
    "height, width, depth = patient_pixels.shape\n",
    "print(f'The image object has the following dimensions:\\nheight={height}\\nwidth={width}\\ndepth={depth}.')"
   ]
  },
  {
   "cell_type": "code",
   "execution_count": 34,
   "id": "7b9a2df3",
   "metadata": {},
   "outputs": [],
   "source": [
    "def hide_axes(): # gets rid of x and y axes on plots if desired\n",
    "    ax = plt.gca()\n",
    "    ax.get_xaxis().set_visible(False)\n",
    "    ax.get_yaxis().set_visible(False)"
   ]
  },
  {
   "cell_type": "code",
   "execution_count": 101,
   "id": "ba84e037",
   "metadata": {},
   "outputs": [
    {
     "data": {
      "application/vnd.jupyter.widget-view+json": {
       "model_id": "9dee62f428da4d6fb6e84911ccf4848f",
       "version_major": 2,
       "version_minor": 0
      },
      "text/plain": [
       "interactive(children=(IntSlider(value=143, description='x', max=287), Output()), _dom_classes=('widget-interac…"
      ]
     },
     "metadata": {},
     "output_type": "display_data"
    },
    {
     "data": {
      "text/plain": [
       "<function __main__.dicom_animation(x)>"
      ]
     },
     "execution_count": 101,
     "metadata": {},
     "output_type": "execute_result"
    }
   ],
   "source": [
    "# slide through dicom images using a slide bar \n",
    "#plt.figure(1)\n",
    "def dicom_animation(x):\n",
    "    plt.figure(figsize=(6,20))\n",
    "    plt.imshow(patient_pixels[x], cmap='bone')\n",
    "    plt.title(\"Interactive display of MRI Scans\")\n",
    "    hide_axes()\n",
    "    return x\n",
    "interact(dicom_animation, x=(0, len(slices)-1))"
   ]
  },
  {
   "cell_type": "code",
   "execution_count": 36,
   "id": "74a01370",
   "metadata": {},
   "outputs": [],
   "source": [
    "axial_aspect_ratio = pixel_spacing[1]/pixel_spacing[0]\n",
    "sagital_aspect_ratio = pixel_spacing[1]/slice_thickness\n",
    "coronal_aspect_ratio = slice_thickness/pixel_spacing[0]"
   ]
  },
  {
   "cell_type": "code",
   "execution_count": 37,
   "id": "96de734a",
   "metadata": {},
   "outputs": [],
   "source": [
    "img_shape = list(slices[0].pixel_array.shape)\n",
    "img_shape.append(len(slices))\n",
    "volume3D = np.zeros(img_shape)"
   ]
  },
  {
   "cell_type": "code",
   "execution_count": 38,
   "id": "6c19498c",
   "metadata": {},
   "outputs": [],
   "source": [
    "for i,s in enumerate(slices):\n",
    "    array2D = s.pixel_array\n",
    "    volume3D[:,:,i] = array2D"
   ]
  },
  {
   "cell_type": "code",
   "execution_count": 39,
   "id": "a9bb9750",
   "metadata": {},
   "outputs": [
    {
     "data": {
      "image/png": "[encoded data removed]",
      "text/plain": [
       "<Figure size 432x288 with 3 Axes>"
      ]
     },
     "metadata": {
      "needs_background": "light"
     },
     "output_type": "display_data"
    }
   ],
   "source": [
    "axial_plot = plt.subplot(1,3,1)\n",
    "plt.title(\"Axial View\")\n",
    "hide_axes()\n",
    "plt.imshow(volume3D[:,:,img_shape[2]//2], cmap = 'bone')\n",
    "axial_plot.set_aspect(axial_aspect_ratio)\n",
    "\n",
    "sagital_plot = plt.subplot(1,3,2)\n",
    "plt.title(\"Sagital View\")\n",
    "hide_axes()\n",
    "plt.imshow(volume3D[:,:,img_shape[1]//2], cmap = 'bone')\n",
    "sagital_plot.set_aspect(sagital_aspect_ratio)\n",
    "\n",
    "coronal_plot = plt.subplot(1,3,3)\n",
    "plt.title(\"Coronal View\")\n",
    "hide_axes()\n",
    "plt.imshow(volume3D[:,:,img_shape[0]//2].T, cmap = 'bone')\n",
    "coronal_plot.set_aspect(coronal_aspect_ratio)"
   ]
  },
  {
   "cell_type": "code",
   "execution_count": 40,
   "id": "28fb874d",
   "metadata": {},
   "outputs": [],
   "source": [
    "axial = volume3D[:,:,img_shape[2]//2]\n",
    "sagital = volume3D[:,:,img_shape[1]//2]\n",
    "coronal = volume3D[:,:,img_shape[0]//2].T"
   ]
  },
  {
   "cell_type": "code",
   "execution_count": 41,
   "id": "095e3b39",
   "metadata": {},
   "outputs": [],
   "source": [
    "# now want to use a slider to view all images in the 3 planes\n",
    "#plt.figure(1)\n",
    "#def dicom_animation(x):\n",
    " #   axial_plot = plt.subplot(1,3,1)\n",
    "  #  plt.title(\"Axial View\")\n",
    "   # plt.imshow(axial[x])\n",
    "    #axial_plot.set_aspect(axial_aspect_ratio)\n",
    "\n",
    "#    sagital_plot = plt.subplot(1,3,2)\n",
    " #   plt.title(\"Sagital View\")\n",
    "  #  plt.imshow(sagital[x])\n",
    "   # sagital_plot.set_aspect(sagital_aspect_ratio)\n",
    "\n",
    "#    coronal_plot = plt.subplot(1,3,3)\n",
    " #   plt.title(\"Coronal View\")\n",
    "  #  plt.imshow(coronal[x])\n",
    "   # coronal_plot.set_aspect(coronal_aspect_ratio)\n",
    "    #return x\n",
    "#interact(dicom_animation, x=(0, len(slices)-1))"
   ]
  },
  {
   "cell_type": "code",
   "execution_count": 54,
   "id": "76dcc1c8",
   "metadata": {},
   "outputs": [],
   "source": [
    "# Want to convert all dicom files into JPEG images\n",
    "def convert(directory):\n",
    "    im = dicom.dcmread(path + '/' + directory)\n",
    "    im = im.pixel_array.astype(float)\n",
    "    rescaled_image = (np.maximum(im,0)/im.max()) * 255\n",
    "    final_image = np.uint8(rescaled_image)\n",
    "    final_image = Img.fromarray(final_image)\n",
    "    return final_image"
   ]
  },
  {
   "cell_type": "code",
   "execution_count": null,
   "id": "febe5148",
   "metadata": {},
   "outputs": [],
   "source": [
    "path = r'C:\\Users\\adamj\\OneDrive\\Desktop\\DICOM Python\\Dicom Files'\n",
    "ct_images = os.listdir(path)\n",
    "arr_filename = [x for x in ct_images if x.endswith(\".dcm\")]"
   ]
  },
  {
   "cell_type": "code",
   "execution_count": 57,
   "id": "444224d2",
   "metadata": {},
   "outputs": [],
   "source": [
    "for name in arr_filename:\n",
    "    image = convert(name)\n",
    "    image.save(r'C:\\Users\\adamj\\OneDrive\\Desktop\\DICOM Python\\Dicom Images\\\\' + name + '.jpg')"
   ]
  },
  {
   "cell_type": "code",
   "execution_count": 78,
   "id": "4041b3de",
   "metadata": {},
   "outputs": [],
   "source": [
    "image = Img.open(\"IM-0001-0039.dcm.jpg\")"
   ]
  },
  {
   "cell_type": "code",
   "execution_count": 107,
   "id": "5558a031",
   "metadata": {},
   "outputs": [
    {
     "data": {
      "application/vnd.jupyter.widget-view+json": {
       "model_id": "38075867470746fdbe276489820db154",
       "version_major": 2,
       "version_minor": 0
      },
      "text/plain": [
       "interactive(children=(FloatSlider(value=1.0, description='contrast', max=5.0, min=1.0), FloatSlider(value=1.0,…"
      ]
     },
     "metadata": {},
     "output_type": "display_data"
    },
    {
     "data": {
      "text/plain": [
       "<function __main__.enhancement_modifier(contrast=1, brightness=1, sharpness=1)>"
      ]
     },
     "execution_count": 107,
     "metadata": {},
     "output_type": "execute_result"
    }
   ],
   "source": [
    "def enhancement_modifier(contrast=1,brightness=1,sharpness=1):\n",
    "    plt.figure(figsize=(10,10))\n",
    "    image_enhanced = image.copy()\n",
    "    #color = ImageEnhance.Color(image_enhanced).enhance(w)\n",
    "    con = ImageEnhance.Contrast(image_enhanced).enhance(contrast)\n",
    "    bright = ImageEnhance.Brightness(image_enhanced).enhance(brightness)\n",
    "    sharp = ImageEnhance.Sharpness(image_enhanced).enhance(sharpness)\n",
    "\n",
    "    #plt.subplot(2,2,1)\n",
    "    #plt.imshow(color, cmap='bone')\n",
    "    #plt.title('Color')\n",
    "    #hide_axes()\n",
    "\n",
    "    plt.subplot(1,3,1)\n",
    "    plt.imshow(con, cmap='bone')\n",
    "    plt.title('Contrast')\n",
    "    hide_axes()\n",
    "\n",
    "    plt.subplot(1,3,2)\n",
    "    plt.imshow(bright, cmap='bone')\n",
    "    plt.title('Brightness')\n",
    "    hide_axes()\n",
    "\n",
    "    plt.subplot(1,3,3)\n",
    "    plt.imshow(sharp, cmap='bone')\n",
    "    plt.title('Sharpness')\n",
    "    hide_axes()\n",
    "    \n",
    "    return\n",
    "\n",
    "interact(enhancement_modifier, contrast=(1, 5, 0.1), brightness=(1, 5, 0.1), sharpness=(1, 100, 3))"
   ]
  },
  {
   "cell_type": "code",
   "execution_count": 113,
   "id": "7de99c77",
   "metadata": {},
   "outputs": [
    {
     "name": "stdout",
     "output_type": "stream",
     "text": [
      "0.19.1\n"
     ]
    }
   ],
   "source": [
    "print(skimage.__version__)"
   ]
  },
  {
   "cell_type": "code",
   "execution_count": null,
   "id": "12e7d656",
   "metadata": {},
   "outputs": [],
   "source": []
  }
 ],
 "metadata": {
  "kernelspec": {
   "display_name": "Python 3 (ipykernel)",
   "language": "python",
   "name": "python3"
  },
  "language_info": {
   "codemirror_mode": {
    "name": "ipython",
    "version": 3
   },
   "file_extension": ".py",
   "mimetype": "text/x-python",
   "name": "python",
   "nbconvert_exporter": "python",
   "pygments_lexer": "ipython3",
   "version": "3.8.12"
  }
 },
 "nbformat": 4,
 "nbformat_minor": 5
}
